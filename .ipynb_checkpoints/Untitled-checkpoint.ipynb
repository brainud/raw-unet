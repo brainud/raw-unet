{
 "cells": [
  {
   "cell_type": "code",
   "execution_count": 8,
   "metadata": {},
   "outputs": [
    {
     "name": "stdout",
     "output_type": "stream",
     "text": [
      "torch.Size([1, 1, 572, 572])\n",
      "HEE\n",
      "torch.Size([1, 64, 568, 568])\n",
      "torch.Size([1, 1024, 28, 28])\n",
      "None\n",
      "Hellpo\n"
     ]
    }
   ],
   "source": [
    "import torch\n",
    "import torch.nn as nn\n",
    "\n",
    "def double_conv(in_c, out_c):\n",
    "    conv= nn.Sequential(\n",
    "        nn.Conv2d(in_c, out_c, kernel_size= 3),\n",
    "        nn.ReLU(inplace = True),\n",
    "        nn.Conv2d(out_c, out_c, kernel_size= 3),\n",
    "        nn.ReLU(inplace = True),\n",
    "    )\n",
    "    return conv\n",
    "\n",
    "class UNet(nn.Module):\n",
    "    def __init__(self):\n",
    "        super(UNet, self).__init__()\n",
    "\n",
    "        self.max_pool_2x2 = nn.MaxPool2d(kernel_size=2, stride= 2)\n",
    "        self.down_conv_1 = double_conv(1, 64)\n",
    "        self.down_conv_2 = double_conv(64, 128)\n",
    "        self.down_conv_3 = double_conv(128, 256)\n",
    "        self.down_conv_4 = double_conv(256, 512)\n",
    "        self.down_conv_5 = double_conv(512, 1024)\n",
    "\n",
    "    def forward(self, image):\n",
    "        # bs, c, h, w\n",
    "        #encoder\n",
    "        print(\"HEE\")\n",
    "        x1 = self.down_conv_1(image)\n",
    "        print(x1.size())\n",
    "        x2 = self.max_pool_2x2(x1)\n",
    "        x3 = self.down_conv_2(x2)\n",
    "        x4 = self.max_pool_2x2(x3)\n",
    "        x5 = self.down_conv_3(x4)\n",
    "        x6 = self.max_pool_2x2(x5)\n",
    "        x7 = self.down_conv_4(x6)\n",
    "        x8 = self.max_pool_2x2(x7)\n",
    "        x9 = self.down_conv_5(x8)\n",
    "        print(x9.size())\n",
    "\n",
    "\n",
    "if __name__ == \"__main__\":\n",
    "    image = torch.rand((1, 1, 572, 572))\n",
    "    print(image.size())\n",
    "    model = UNet()\n",
    "    print(model(image))\n",
    "\n",
    "\n",
    "print(\"Hellpo\")"
   ]
  },
  {
   "cell_type": "code",
   "execution_count": null,
   "metadata": {},
   "outputs": [],
   "source": []
  }
 ],
 "metadata": {
  "kernelspec": {
   "display_name": "Python 3.7.7 64-bit ('gpupytorc': conda)",
   "language": "python",
   "name": "python37764bitgpupytorccondaf59b79b220374cd9932702741fe76c47"
  },
  "language_info": {
   "codemirror_mode": {
    "name": "ipython",
    "version": 3
   },
   "file_extension": ".py",
   "mimetype": "text/x-python",
   "name": "python",
   "nbconvert_exporter": "python",
   "pygments_lexer": "ipython3",
   "version": "3.7.7"
  }
 },
 "nbformat": 4,
 "nbformat_minor": 4
}
